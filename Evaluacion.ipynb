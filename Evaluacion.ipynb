{
 "cells": [
  {
   "cell_type": "code",
   "execution_count": 64,
   "metadata": {},
   "outputs": [],
   "source": [
    "import pandas as pd\n",
    "import numpy as np \n",
    "import Funcioines as fc"
   ]
  },
  {
   "cell_type": "markdown",
   "metadata": {},
   "source": [
    "***Función_1. Carga los archivos con extensiones .csv y .xlsx y los convierte a dataframe, si es un  archivo con cualquier otra extensión, emitirá el raise (“Este formato no esta soportado para esta función: .formato”)***"
   ]
  },
  {
   "cell_type": "code",
   "execution_count": 66,
   "metadata": {},
   "outputs": [],
   "source": [
    "def cargar_archivo(ruta):\n",
    "    global df  \n",
    "    if ex == '.csv':\n",
    "        df = pd.read_csv(ruta)\n",
    "    elif ex == '.xlsx':\n",
    "        df = pd.read_excel(ruta)\n",
    "    else:\n",
    "        raise ValueError(f\"Este formato no está soportado para esta función: {extension}\")\n"
   ]
  },
  {
   "cell_type": "code",
   "execution_count": 67,
   "metadata": {},
   "outputs": [
    {
     "ename": "AttributeError",
     "evalue": "module 'Funcioines' has no attribute 'cargar_archivo'",
     "output_type": "error",
     "traceback": [
      "\u001b[1;31m---------------------------------------------------------------------------\u001b[0m",
      "\u001b[1;31mAttributeError\u001b[0m                            Traceback (most recent call last)",
      "Cell \u001b[1;32mIn[67], line 1\u001b[0m\n\u001b[1;32m----> 1\u001b[0m df\u001b[38;5;241m=\u001b[39m\u001b[43mfc\u001b[49m\u001b[38;5;241;43m.\u001b[39;49m\u001b[43mcargar_archivo\u001b[49m(\u001b[38;5;124m\"\u001b[39m\u001b[38;5;124mBaseMadrid_filtrada.csv\u001b[39m\u001b[38;5;124m\"\u001b[39m)\n\u001b[0;32m      2\u001b[0m df\n",
      "\u001b[1;31mAttributeError\u001b[0m: module 'Funcioines' has no attribute 'cargar_archivo'"
     ]
    }
   ],
   "source": [
    "df=fc.cargar_archivo(\"BaseMadrid_filtrada.csv\")\n",
    "df"
   ]
  },
  {
   "cell_type": "markdown",
   "metadata": {},
   "source": [
    "----"
   ]
  },
  {
   "cell_type": "markdown",
   "metadata": {},
   "source": [
    "***Función_2. Sustituye los valores nulos de las variables pares numéricas con el método “mean” y de las impares numéricas con la constante “99”. Las columnas que no sean de tipo numérico se sustituirán con el string “Este_es_un_valor_nulo”***\n"
   ]
  },
  {
   "cell_type": "code",
   "execution_count": null,
   "metadata": {},
   "outputs": [],
   "source": [
    "def cuenta_valores_nulos(df):\n",
    "    \n",
    "    valores_nulos_cols = df.isnull().sum()\n",
    "    valores_nulos_df = df.isnull().sum().sum()\n",
    "    \n",
    "    return(\"Valores nulos por columna\", valores_nulos_cols,\n",
    "            \"Valores nulos por dataframe\", valores_nulos_df)"
   ]
  },
  {
   "cell_type": "code",
   "execution_count": null,
   "metadata": {},
   "outputs": [],
   "source": [
    "cuenta_valores_nulos(df)\n"
   ]
  },
  {
   "cell_type": "code",
   "execution_count": 55,
   "metadata": {},
   "outputs": [],
   "source": [
    "def sustituir_nulos(df):\n",
    "    cuantitativas_con_nulos = df.select_dtypes(include=['float64', 'int64', 'float', 'int'])\n",
    "    cualitativas = df.select_dtypes(include=['object', 'datetime', 'category'])\n",
    "    \n",
    "    cuantitativas = cuantitativas_con_nulos.copy()\n",
    "    for i, col in enumerate(cuantitativas.columns):\n",
    "        if i % 2 == 0:\n",
    "            cuantitativas[col].fillna(round(cuantitativas[col].mean(), 1), inplace=True)\n",
    "        else:\n",
    "            cuantitativas[col].fillna(99, inplace=True)\n",
    "    \n",
    "    cualitativas.fillna(\"Este_es_un_valor_nulo\", inplace=True)\n",
    "    \n",
    "    dfl= pd.concat([cuantitativas, cualitativas], axis=1)\n",
    "    "
   ]
  },
  {
   "cell_type": "code",
   "execution_count": 53,
   "metadata": {},
   "outputs": [
    {
     "name": "stderr",
     "output_type": "stream",
     "text": [
      "C:\\Users\\PC-001\\AppData\\Local\\Temp\\ipykernel_13180\\2658085358.py:8: FutureWarning: A value is trying to be set on a copy of a DataFrame or Series through chained assignment using an inplace method.\n",
      "The behavior will change in pandas 3.0. This inplace method will never work because the intermediate object on which we are setting values always behaves as a copy.\n",
      "\n",
      "For example, when doing 'df[col].method(value, inplace=True)', try using 'df.method({col: value}, inplace=True)' or df[col] = df[col].method(value) instead, to perform the operation inplace on the original object.\n",
      "\n",
      "\n",
      "  cuantitativas[col].fillna(round(cuantitativas[col].mean(), 1), inplace=True)\n",
      "C:\\Users\\PC-001\\AppData\\Local\\Temp\\ipykernel_13180\\2658085358.py:10: FutureWarning: A value is trying to be set on a copy of a DataFrame or Series through chained assignment using an inplace method.\n",
      "The behavior will change in pandas 3.0. This inplace method will never work because the intermediate object on which we are setting values always behaves as a copy.\n",
      "\n",
      "For example, when doing 'df[col].method(value, inplace=True)', try using 'df.method({col: value}, inplace=True)' or df[col] = df[col].method(value) instead, to perform the operation inplace on the original object.\n",
      "\n",
      "\n",
      "  cuantitativas[col].fillna(99, inplace=True)\n"
     ]
    }
   ],
   "source": [
    "dfl=sustituir_nulos(df)"
   ]
  },
  {
   "cell_type": "code",
   "execution_count": 54,
   "metadata": {},
   "outputs": [
    {
     "data": {
      "text/plain": [
       "('Valores nulos por columna',\n",
       " id                                         0\n",
       " id_anfitrion                               0\n",
       " total_anuncios_anfitrion                   0\n",
       " latitud                                    0\n",
       " longitud                                   0\n",
       " capacidad                                  0\n",
       " habitaciones                               0\n",
       " camas                                      0\n",
       " minimo_noches                              0\n",
       " maximo_noches                              0\n",
       " disponibilidad_30_dias                     0\n",
       " disponibilidad_60_dias                     0\n",
       " disponibilidad_90_dias                     0\n",
       " disponibilidad_365_dias                    0\n",
       " numero_resenas                             0\n",
       " numero_resenas_ultimos_12_meses            0\n",
       " numero_resenas_ultimos_30_dias             0\n",
       " puntuacion_general                         0\n",
       " puntuacion_precision                       0\n",
       " puntuacion_limpieza                        0\n",
       " puntuacion_checkin                         0\n",
       " puntuacion_comunicacion                    0\n",
       " puntuacion_ubicacion                       0\n",
       " puntuacion_valor                           0\n",
       " total_anuncios_calculado                   0\n",
       " total_anuncios_casas_entera                0\n",
       " total_anuncios_habitaciones_privadas       0\n",
       " total_anuncios_habitaciones_compartidas    0\n",
       " resenas_por_mes                            0\n",
       " url_anuncio                                0\n",
       " nombre                                     0\n",
       " descripcion                                0\n",
       " resumen_vecindario                         0\n",
       " nombre_anfitrion                           0\n",
       " anfitrion_desde                            0\n",
       " es_superanfitrion                          0\n",
       " identidad_verificada_anfitrion             0\n",
       " vecindario                                 0\n",
       " vecindario_limpio                          0\n",
       " tipo_propiedad                             0\n",
       " tipo_habitacion                            0\n",
       " banos                                      0\n",
       " amenidades                                 0\n",
       " precio                                     0\n",
       " primera_resena                             0\n",
       " ultima_resena                              0\n",
       " reserva_inmediata                          0\n",
       " dtype: int64,\n",
       " 'Valores nulos por dataframe',\n",
       " 0)"
      ]
     },
     "execution_count": 54,
     "metadata": {},
     "output_type": "execute_result"
    }
   ],
   "source": [
    "cuenta_valores_nulos(dfl)\n"
   ]
  },
  {
   "cell_type": "markdown",
   "metadata": {},
   "source": [
    "----"
   ]
  },
  {
   "cell_type": "markdown",
   "metadata": {},
   "source": [
    "***Función_4. Sustituye  los valores atípicos de las columnas numéricas con el método de “Rango intercuartílico”***"
   ]
  },
  {
   "cell_type": "code",
   "execution_count": 61,
   "metadata": {},
   "outputs": [],
   "source": [
    "def sustituir_atipicos(dfl):\n",
    "    for col in df.select_dtypes(include=['int64', 'float64']).columns:\n",
    "        Q1 = df[col].quantile(0.25)\n",
    "        Q3 = df[col].quantile(0.75)\n",
    "        Iqr=Q1-Q3\n",
    "        Limite_superior= Q3+ 1.5*Iqr\n",
    "        Limite_inferior= Q1- 1.5*Iqr\n",
    "        df[col] = np.where((df[col] < Limite_inferior) | (dfl[col] > Limite_superior), dfl[col].median(), dfl[col])\n",
    "    "
   ]
  },
  {
   "cell_type": "code",
   "execution_count": 62,
   "metadata": {},
   "outputs": [],
   "source": [
    "sustituir_atipicos(dfl)"
   ]
  },
  {
   "cell_type": "markdown",
   "metadata": {},
   "source": []
  },
  {
   "cell_type": "markdown",
   "metadata": {},
   "source": []
  }
 ],
 "metadata": {
  "kernelspec": {
   "display_name": "Python 3",
   "language": "python",
   "name": "python3"
  },
  "language_info": {
   "codemirror_mode": {
    "name": "ipython",
    "version": 3
   },
   "file_extension": ".py",
   "mimetype": "text/x-python",
   "name": "python",
   "nbconvert_exporter": "python",
   "pygments_lexer": "ipython3",
   "version": "3.12.5"
  }
 },
 "nbformat": 4,
 "nbformat_minor": 2
}
